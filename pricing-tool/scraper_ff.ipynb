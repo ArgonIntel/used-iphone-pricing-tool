{
 "cells": [
  {
   "cell_type": "code",
   "execution_count": 8,
   "metadata": {},
   "outputs": [],
   "source": [
    "import pandas as pd\n",
    "from scrape_mngr import (create_folder,\n",
    "                         save_ad_to_csv)\n",
    "\n",
    "from scraper.scraper import Scraper\n",
    "from scraper.cleaner import clean_data\n",
    "%load_ext autoreload\n",
    "%autoreload 2"
   ]
  },
  {
   "cell_type": "code",
   "execution_count": 9,
   "metadata": {},
   "outputs": [],
   "source": [
    "linkovi = [\"https://www.njuskalo.hr/iphone-11?condition%5Bused%5D=1\",\n",
    "        # \"https://www.njuskalo.hr/iphone-11-pro?condition%5Bused%5D=1\",\n",
    "        # \"https://www.njuskalo.hr/iphone-11-pro-max?condition%5Bused%5D=1\",\n",
    "        # \"https://www.njuskalo.hr/iphone-12?condition%5Bused%5D=1\",\n",
    "        # \"https://www.njuskalo.hr/iphone-12-pro?condition%5Bused%5D=1\",\n",
    "        # \"https://www.njuskalo.hr/iphone-12-pro-max?condition%5Bused%5D=1\",\n",
    "        # \"https://www.njuskalo.hr/iphone-13?condition%5Bused%5D=1\",\n",
    "        # \"https://www.njuskalo.hr/iphone-13-pro?condition%5Bused%5D=1\",\n",
    "        # \"https://www.njuskalo.hr/iphone-13-pro-max?condition%5Bused%5D=1\",\n",
    "        # \"https://www.njuskalo.hr/iphone-14-pro-max?condition%5Bused%5D=1\",\n",
    "        # \"https://www.njuskalo.hr/iphone-14-pro?condition%5Bused%5D=1\",\n",
    "        # \"https://www.njuskalo.hr/iphone-14?condition%5Bused%5D=1\",\n",
    "]\n",
    "\n",
    "\n",
    "\n",
    "#oglasi = get_clean_data(link)"
   ]
  },
  {
   "cell_type": "code",
   "execution_count": 16,
   "metadata": {},
   "outputs": [
    {
     "name": "stdout",
     "output_type": "stream",
     "text": [
      "https://www.njuskalo.hr/iphone-11?condition%5Bused%5D=1\n"
     ]
    }
   ],
   "source": [
    "create_folder()\n",
    "\n",
    "scraper = Scraper(headless=False)\n",
    "\n",
    "for link in linkovi:\n",
    "    print(link)\n",
    "    oglasi = scraper.get_data(link)\n",
    "    oglasi = clean_data(oglasi)\n",
    "    path = link[24:-22]\n",
    "    save_ad_to_csv(path, oglasi)\n"
   ]
  }
 ],
 "metadata": {
  "kernelspec": {
   "display_name": "Python 3 (ipykernel)",
   "language": "python",
   "name": "python3"
  },
  "language_info": {
   "codemirror_mode": {
    "name": "ipython",
    "version": 3
   },
   "file_extension": ".py",
   "mimetype": "text/x-python",
   "name": "python",
   "nbconvert_exporter": "python",
   "pygments_lexer": "ipython3",
   "version": "3.11.7"
  }
 },
 "nbformat": 4,
 "nbformat_minor": 4
}
