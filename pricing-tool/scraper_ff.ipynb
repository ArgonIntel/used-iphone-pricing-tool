{
 "cells": [
  {
   "cell_type": "code",
   "execution_count": 1,
   "metadata": {},
   "outputs": [],
   "source": [
    "import pandas as pd\n",
    "from scrape_mngr import (get_clean_data, \n",
    "                         create_folder,\n",
    "                         save_ad_to_csv)\n",
    "\n"
   ]
  },
  {
   "cell_type": "code",
   "execution_count": 2,
   "metadata": {},
   "outputs": [],
   "source": [
    "linkovi = [\"https://www.njuskalo.hr/iphone-11?condition%5Bused%5D=1\",\n",
    "        \"https://www.njuskalo.hr/iphone-11-pro?condition%5Bused%5D=1\",\n",
    "        \"https://www.njuskalo.hr/iphone-11-pro-max?condition%5Bused%5D=1\",\n",
    "        \"https://www.njuskalo.hr/iphone-12?condition%5Bused%5D=1\",\n",
    "        \"https://www.njuskalo.hr/iphone-12-pro?condition%5Bused%5D=1\",\n",
    "        \"https://www.njuskalo.hr/iphone-12-pro-max?condition%5Bused%5D=1\",\n",
    "        \"https://www.njuskalo.hr/iphone-13?condition%5Bused%5D=1\",\n",
    "        \"https://www.njuskalo.hr/iphone-13-pro?condition%5Bused%5D=1\",\n",
    "        \"https://www.njuskalo.hr/iphone-13-pro-max?condition%5Bused%5D=1\",\n",
    "        \"https://www.njuskalo.hr/iphone-14-pro-max?condition%5Bused%5D=1\",\n",
    "        \"https://www.njuskalo.hr/iphone-14-pro?condition%5Bused%5D=1\",\n",
    "        \"https://www.njuskalo.hr/iphone-14?condition%5Bused%5D=1\",\n",
    "]\n",
    "\n",
    "\n",
    "\n",
    "#oglasi = get_clean_data(link)"
   ]
  },
  {
   "cell_type": "code",
   "execution_count": null,
   "metadata": {},
   "outputs": [],
   "source": [
    "create_folder()\n",
    "for link in linkovi:\n",
    "    print(link)\n",
    "    oglasi = get_clean_data(link)\n",
    "    path = link[24:-22]\n",
    "    save_ad_to_csv(path, oglasi)\n"
   ]
  }
 ],
 "metadata": {
  "kernelspec": {
   "display_name": "Python 3 (ipykernel)",
   "language": "python",
   "name": "python3"
  },
  "language_info": {
   "codemirror_mode": {
    "name": "ipython",
    "version": 3
   },
   "file_extension": ".py",
   "mimetype": "text/x-python",
   "name": "python",
   "nbconvert_exporter": "python",
   "pygments_lexer": "ipython3",
   "version": "3.11.7"
  }
 },
 "nbformat": 4,
 "nbformat_minor": 4
}
